{
 "cells": [
  {
   "cell_type": "code",
   "execution_count": 1,
   "metadata": {},
   "outputs": [],
   "source": [
    "#reading the soundfile"
   ]
  },
  {
   "cell_type": "code",
   "execution_count": 2,
   "metadata": {},
   "outputs": [],
   "source": [
    "from python_speech_features import mfcc\n",
    "from python_speech_features import logfbank\n",
    "import scipy.io.wavfile as wav\n"
   ]
  },
  {
   "cell_type": "code",
   "execution_count": 3,
   "metadata": {},
   "outputs": [],
   "source": [
    "(rate,sig) = wav.read(\"/home/shivam/Desktop/python codes/LDC2007S10.wav\")\n",
    "data = mfcc(sig,rate)"
   ]
  },
  {
   "cell_type": "code",
   "execution_count": 4,
   "metadata": {},
   "outputs": [
    {
     "name": "stdout",
     "output_type": "stream",
     "text": [
      "(179999, 13)\n"
     ]
    }
   ],
   "source": [
    "print(data.shape)"
   ]
  },
  {
   "cell_type": "code",
   "execution_count": 6,
   "metadata": {},
   "outputs": [
    {
     "name": "stdout",
     "output_type": "stream",
     "text": [
      "[[ 19.6884738    0.34520428 -18.96777002 ...  17.19743708   7.23626649\n",
      "  -30.71404477]\n",
      " [ 19.6776887    6.5152444  -18.13150971 ...  36.56473388  15.91031454\n",
      "  -20.585949  ]\n",
      " [ 19.38906465   4.09170589 -16.16741236 ...  35.76400799   9.97291938\n",
      "  -27.12420088]\n",
      " ...\n",
      " [  4.48181023 -28.49382144  -1.39828052 ...   6.00959207   4.32710969\n",
      "  -11.78033898]\n",
      " [  4.59760795 -31.19398402  -1.50272759 ...   0.10406072  -5.33376854\n",
      "  -17.42454733]\n",
      " [  4.3957976  -30.3591145    0.93997567 ...   1.45635257  -3.36968642\n",
      "  -10.39677659]]\n"
     ]
    },
    {
     "data": {
      "text/plain": [
       "(179999, 13)"
      ]
     },
     "execution_count": 6,
     "metadata": {},
     "output_type": "execute_result"
    }
   ],
   "source": [
    "print (data)\n",
    "data=data.reshape(data.shape[0],13)\n",
    "data.shape"
   ]
  },
  {
   "cell_type": "code",
   "execution_count": 7,
   "metadata": {},
   "outputs": [
    {
     "name": "stdout",
     "output_type": "stream",
     "text": [
      "[ 19.6884738    0.34520428 -18.96777002 -18.91139043 -28.31415639\n",
      "  -5.61446044 -28.95105212 -34.86181481  11.5893669   -4.58225194\n",
      "  17.19743708   7.23626649 -30.71404477]\n"
     ]
    }
   ],
   "source": [
    "print(data[0])"
   ]
  },
  {
   "cell_type": "code",
   "execution_count": 8,
   "metadata": {},
   "outputs": [],
   "source": [
    "import soundfile as sf\n",
    "from sklearn import cluster\n",
    "import numpy as np\n",
    "import pandas as pd\n",
    "dataset, fs = sf.read('/home/shivam/Desktop/python codes/LDC2007S10.wav')"
   ]
  },
  {
   "cell_type": "code",
   "execution_count": 9,
   "metadata": {},
   "outputs": [
    {
     "name": "stdout",
     "output_type": "stream",
     "text": [
      "[array([1.29913330e-01, 9.65881348e-02, 5.27648926e-02, ...,\n",
      "       0.00000000e+00, 3.05175781e-05, 3.05175781e-05])]\n"
     ]
    }
   ],
   "source": [
    "print [dataset]"
   ]
  },
  {
   "cell_type": "code",
   "execution_count": 9,
   "metadata": {},
   "outputs": [],
   "source": [
    "#reshape the data "
   ]
  },
  {
   "cell_type": "code",
   "execution_count": 10,
   "metadata": {},
   "outputs": [
    {
     "data": {
      "text/plain": [
       "(28800000, 1)"
      ]
     },
     "execution_count": 10,
     "metadata": {},
     "output_type": "execute_result"
    }
   ],
   "source": [
    "dataset=dataset.reshape(dataset.shape[0],1)\n",
    "ks=range(1,2)\n",
    "dataset.shape"
   ]
  },
  {
   "cell_type": "code",
   "execution_count": 11,
   "metadata": {},
   "outputs": [
    {
     "data": {
      "text/plain": [
       "(100, 1)"
      ]
     },
     "execution_count": 11,
     "metadata": {},
     "output_type": "execute_result"
    }
   ],
   "source": [
    "Y=dataset[0:100]\n",
    "Y.shape"
   ]
  },
  {
   "cell_type": "code",
   "execution_count": 12,
   "metadata": {},
   "outputs": [],
   "source": [
    "KMeans = [cluster.KMeans(n_clusters = i, init=\"k-means++\").fit(data[179989:179999]) for i in ks]"
   ]
  },
  {
   "cell_type": "code",
   "execution_count": 13,
   "metadata": {},
   "outputs": [
    {
     "name": "stdout",
     "output_type": "stream",
     "text": [
      "1\n"
     ]
    }
   ],
   "source": [
    "print(len(KMeans))"
   ]
  },
  {
   "cell_type": "code",
   "execution_count": 14,
   "metadata": {},
   "outputs": [],
   "source": [
    "#code for calculating Bayesian Information Criteria for a cluster of data"
   ]
  },
  {
   "cell_type": "code",
   "execution_count": 15,
   "metadata": {},
   "outputs": [],
   "source": [
    "import numpy as np\n",
    "from scipy.spatial import distance\n",
    "def compute_bic(kmeans,X):\n",
    "    \"\"\"\n",
    "    Computes the BIC metric for a given clusters\n",
    "\n",
    "    Parameters:\n",
    "    -----------------------------------------\n",
    "    kmeans:  List of clustering object from scikit learn\n",
    "\n",
    "    X     :  multidimension np array of data points\n",
    "\n",
    "    Returns:\n",
    "    -----------------------------------------\n",
    "    BIC value\n",
    "    \"\"\"\n",
    "    # assign centers and labels\n",
    "    centers = [kmeans.cluster_centers_]\n",
    "    labels  = kmeans.labels_\n",
    "    #number of clusters\n",
    "    \n",
    "    m = kmeans.n_clusters\n",
    "    #print(m)\n",
    "    #print m\n",
    "    #print (m)\n",
    "    # size of the clusters\n",
    "    n = np.bincount(labels)\n",
    "    #size of data set\n",
    "    N, d = X.shape\n",
    "    #print m,N\n",
    "    #print(X.shape)\n",
    "    #print(d)\n",
    "    #tmp=(1.0 / (N - m) / d) *sum([sum(distance.cdist(X[np.where(labels == i)], [centers[0][i]], 'euclidean')**2) for i in range(m)])\n",
    "    #print(tmp)\n",
    "    #compute variance for all clusters beforehand\n",
    "    #print(N-m)\n",
    "    cl_var = (1.0 / (N - m) / d) * sum([sum(distance.cdist(X[np.where(labels == i)], [centers[0][i]], 'euclidean')**2) for i in range(m)])\n",
    "\n",
    "    const_term = 0.5 * m * np.log(N) * (d+1)\n",
    "\n",
    "    BIC = np.sum([n[i] * np.log(n[i]) -\n",
    "               n[i] * np.log(N) -\n",
    "             ((n[i] * d) / 2) * np.log(2*np.pi*cl_var) -\n",
    "              ((n[i] - 1) * d/ 2) for i in range(m)]) - const_term\n",
    "\n",
    "    return(BIC)"
   ]
  },
  {
   "cell_type": "code",
   "execution_count": 16,
   "metadata": {},
   "outputs": [
    {
     "name": "stdout",
     "output_type": "stream",
     "text": [
      "KMeans(algorithm='auto', copy_x=True, init='k-means++', max_iter=300,\n",
      "    n_clusters=1, n_init=10, n_jobs=1, precompute_distances='auto',\n",
      "    random_state=None, tol=0.0001, verbose=0)\n"
     ]
    }
   ],
   "source": [
    "print(KMeans[0])"
   ]
  },
  {
   "cell_type": "code",
   "execution_count": 17,
   "metadata": {},
   "outputs": [],
   "source": [
    "#compute BIC"
   ]
  },
  {
   "cell_type": "code",
   "execution_count": 18,
   "metadata": {},
   "outputs": [
    {
     "name": "stdout",
     "output_type": "stream",
     "text": [
      "[-342.4814753693512]\n"
     ]
    }
   ],
   "source": [
    "BIC = [compute_bic(kmeansi,data[179989:179999]) for kmeansi in KMeans]\n",
    "#BIC = compute_bic(kmeansi,dataset) \n",
    "print(BIC)"
   ]
  },
  {
   "cell_type": "code",
   "execution_count": null,
   "metadata": {},
   "outputs": [],
   "source": []
  },
  {
   "cell_type": "code",
   "execution_count": 22,
   "metadata": {},
   "outputs": [],
   "source": [
    " #code for detecting Speaker change  "
   ]
  },
  {
   "cell_type": "code",
   "execution_count": 86,
   "metadata": {},
   "outputs": [
    {
     "name": "stdout",
     "output_type": "stream",
     "text": [
      "speaker change detected at  474\n",
      "speaker change detected at  938\n",
      "speaker change detected at  1481\n",
      "speaker change detected at  1918\n",
      "speaker change detected at  2318\n",
      "speaker change detected at  4052\n",
      "speaker change detected at  4682\n",
      "speaker change detected at  5234\n",
      "speaker change detected at  5850\n",
      "speaker change detected at  6374\n",
      "speaker change detected at  6910\n",
      "speaker change detected at  7525\n",
      "speaker change detected at  7929\n",
      "speaker change detected at  8594\n",
      "speaker change detected at  9197\n",
      "speaker change detected at  9624\n",
      "speaker change detected at  10062\n",
      "speaker change detected at  10526\n",
      "speaker change detected at  14949\n",
      "speaker change detected at  15870\n",
      "speaker change detected at  20414\n",
      "speaker change detected at  21151\n",
      "speaker change detected at  21831\n",
      "speaker change detected at  22332\n",
      "speaker change detected at  22748\n",
      "speaker change detected at  23478\n",
      "speaker change detected at  24061\n",
      "speaker change detected at  24614\n",
      "speaker change detected at  25032\n",
      "speaker change detected at  25680\n",
      "speaker change detected at  26842\n",
      "speaker change detected at  27281\n",
      "speaker change detected at  28523\n",
      "speaker change detected at  28946\n",
      "speaker change detected at  29390\n",
      "speaker change detected at  29801\n",
      "speaker change detected at  30208\n",
      "speaker change detected at  30624\n",
      "speaker change detected at  31115\n",
      "speaker change detected at  31817\n",
      "speaker change detected at  32951\n",
      "speaker change detected at  33379\n",
      "speaker change detected at  33805\n",
      "speaker change detected at  34401\n",
      "speaker change detected at  34820\n",
      "speaker change detected at  35259\n",
      "speaker change detected at  35785\n",
      "speaker change detected at  36287\n",
      "speaker change detected at  36822\n",
      "speaker change detected at  37345\n",
      "speaker change detected at  37745\n",
      "speaker change detected at  38176\n",
      "speaker change detected at  38821\n",
      "speaker change detected at  39231\n",
      "speaker change detected at  39854\n",
      "speaker change detected at  40397\n",
      "speaker change detected at  40865\n",
      "speaker change detected at  41368\n",
      "speaker change detected at  42282\n",
      "speaker change detected at  42981\n",
      "speaker change detected at  43942\n",
      "speaker change detected at  45010\n",
      "speaker change detected at  45484\n",
      "speaker change detected at  45938\n",
      "speaker change detected at  46618\n",
      "speaker change detected at  47108\n",
      "speaker change detected at  47573\n",
      "speaker change detected at  48048\n",
      "speaker change detected at  48511\n",
      "speaker change detected at  49110\n",
      "speaker change detected at  49556\n",
      "speaker change detected at  50179\n",
      "speaker change detected at  50709\n",
      "speaker change detected at  51412\n",
      "speaker change detected at  51879\n",
      "speaker change detected at  54790\n",
      "speaker change detected at  57959\n",
      "speaker change detected at  59651\n",
      "speaker change detected at  61443\n",
      "speaker change detected at  61843\n",
      "speaker change detected at  62828\n",
      "speaker change detected at  63428\n",
      "speaker change detected at  64137\n",
      "speaker change detected at  64537\n",
      "speaker change detected at  65025\n",
      "speaker change detected at  65934\n",
      "speaker change detected at  66407\n",
      "speaker change detected at  67232\n",
      "speaker change detected at  67668\n",
      "speaker change detected at  68069\n",
      "speaker change detected at  68893\n",
      "speaker change detected at  69452\n",
      "speaker change detected at  69910\n",
      "speaker change detected at  70522\n",
      "speaker change detected at  70924\n",
      "speaker change detected at  71390\n",
      "speaker change detected at  72084\n",
      "speaker change detected at  72512\n",
      "speaker change detected at  78538\n",
      "speaker change detected at  85929\n",
      "speaker change detected at  86397\n",
      "speaker change detected at  87421\n",
      "speaker change detected at  87825\n",
      "speaker change detected at  88249\n",
      "speaker change detected at  88649\n",
      "speaker change detected at  89091\n",
      "speaker change detected at  89596\n",
      "speaker change detected at  91071\n",
      "speaker change detected at  92038\n",
      "speaker change detected at  93350\n",
      "speaker change detected at  93788\n",
      "speaker change detected at  94354\n",
      "speaker change detected at  94812\n",
      "speaker change detected at  95345\n",
      "speaker change detected at  95904\n",
      "speaker change detected at  97099\n",
      "speaker change detected at  97637\n",
      "speaker change detected at  98099\n",
      "speaker change detected at  98555\n",
      "speaker change detected at  99917\n",
      "speaker change detected at  100360\n",
      "speaker change detected at  100780\n",
      "speaker change detected at  101397\n",
      "speaker change detected at  101828\n",
      "speaker change detected at  102742\n",
      "speaker change detected at  103237\n",
      "speaker change detected at  103651\n",
      "speaker change detected at  104591\n",
      "speaker change detected at  105042\n",
      "speaker change detected at  105442\n",
      "speaker change detected at  105885\n",
      "speaker change detected at  106398\n",
      "speaker change detected at  107090\n",
      "speaker change detected at  107492\n",
      "speaker change detected at  108012\n",
      "speaker change detected at  108465\n",
      "speaker change detected at  109155\n",
      "speaker change detected at  109870\n",
      "speaker change detected at  110392\n",
      "speaker change detected at  119891\n",
      "speaker change detected at  122573\n",
      "speaker change detected at  123350\n",
      "speaker change detected at  125131\n",
      "speaker change detected at  125581\n",
      "speaker change detected at  126133\n",
      "speaker change detected at  126676\n",
      "speaker change detected at  127197\n",
      "speaker change detected at  127763\n",
      "speaker change detected at  128163\n",
      "speaker change detected at  128616\n",
      "speaker change detected at  129519\n",
      "speaker change detected at  129957\n",
      "speaker change detected at  130385\n",
      "speaker change detected at  130828\n",
      "speaker change detected at  131962\n",
      "speaker change detected at  132711\n",
      "speaker change detected at  137288\n",
      "speaker change detected at  137906\n",
      "speaker change detected at  139632\n",
      "speaker change detected at  142074\n",
      "speaker change detected at  143241\n",
      "speaker change detected at  148080\n",
      "speaker change detected at  148483\n",
      "speaker change detected at  149029\n",
      "speaker change detected at  149595\n",
      "speaker change detected at  150032\n",
      "speaker change detected at  150432\n",
      "speaker change detected at  150896\n",
      "speaker change detected at  151296\n",
      "speaker change detected at  151859\n",
      "speaker change detected at  154905\n",
      "speaker change detected at  155415\n",
      "speaker change detected at  155979\n",
      "speaker change detected at  156543\n",
      "speaker change detected at  157481\n",
      "speaker change detected at  159101\n",
      "speaker change detected at  159519\n",
      "speaker change detected at  160875\n",
      "speaker change detected at  162128\n",
      "speaker change detected at  162686\n",
      "speaker change detected at  163541\n",
      "speaker change detected at  164579\n",
      "speaker change detected at  165304\n",
      "speaker change detected at  168020\n"
     ]
    }
   ],
   "source": [
    "#!/usr/bin/python\n",
    "a=0\n",
    "t=a+200\n",
    "b=a+400\n",
    "threshold= 480 #flexible as per penalty added and our knowledge too\n",
    "count=0\n",
    "for i in range(200,len(data)): \n",
    "    #print a,t,b\n",
    "    X1= data[a:t]\n",
    "    X2= data[t:b]\n",
    "    X=  data[a:b]\n",
    "    #print(\"helllo\")\n",
    "    if(X2.shape[0]<200):\n",
    "        break        \n",
    "    #compute_bic(X1) compute BIC(X2)\n",
    "    bic1= BIC = [compute_bic(kmeansi,X1) for kmeansi in KMeans]\n",
    "    bic2= BIC = [compute_bic(kmeansi,X2) for kmeansi in KMeans]\n",
    "    bic= BIC = [compute_bic(kmeansi,X) for kmeansi in KMeans]\n",
    "    diff= abs((bic1[0]+bic2[0])-bic[0])\n",
    "    #print bic1[0]\n",
    "    #print bic2[0]\n",
    "    \n",
    "    if diff>threshold:\n",
    "                print \"speaker change detected at \",t\n",
    "                count=count+1\n",
    "                a=b\n",
    "                t=a+200\n",
    "                b=a+400\n",
    "                #print a,t,b\n",
    "    else:\n",
    "                t=t+1\n",
    "                a=t-200\n",
    "                b=t+200\n",
    "        "
   ]
  },
  {
   "cell_type": "code",
   "execution_count": 87,
   "metadata": {},
   "outputs": [
    {
     "name": "stdout",
     "output_type": "stream",
     "text": [
      "184\n"
     ]
    }
   ],
   "source": [
    "print (count)"
   ]
  },
  {
   "cell_type": "code",
   "execution_count": null,
   "metadata": {},
   "outputs": [],
   "source": [
    "\n",
    "    "
   ]
  },
  {
   "cell_type": "code",
   "execution_count": null,
   "metadata": {},
   "outputs": [],
   "source": []
  }
 ],
 "metadata": {
  "kernelspec": {
   "display_name": "Python 2",
   "language": "python",
   "name": "python2"
  },
  "language_info": {
   "codemirror_mode": {
    "name": "ipython",
    "version": 2
   },
   "file_extension": ".py",
   "mimetype": "text/x-python",
   "name": "python",
   "nbconvert_exporter": "python",
   "pygments_lexer": "ipython2",
   "version": "2.7.14"
  }
 },
 "nbformat": 4,
 "nbformat_minor": 2
}
