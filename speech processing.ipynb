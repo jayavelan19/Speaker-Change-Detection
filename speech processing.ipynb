{
 "cells": [
  {
   "cell_type": "code",
   "execution_count": 7,
   "metadata": {},
   "outputs": [],
   "source": [
    "#reading the soundfile"
   ]
  },
  {
   "cell_type": "code",
   "execution_count": 1,
   "metadata": {},
   "outputs": [],
   "source": [
    "from python_speech_features import mfcc\n",
    "from python_speech_features import logfbank\n",
    "import scipy.io.wavfile as wav\n"
   ]
  },
  {
   "cell_type": "code",
   "execution_count": 2,
   "metadata": {},
   "outputs": [],
   "source": [
    "(rate,sig) = wav.read(\"/home/shivam/Desktop/python codes/LDC2007S10.wav\")\n",
    "data = mfcc(sig,rate)"
   ]
  },
  {
   "cell_type": "code",
   "execution_count": 3,
   "metadata": {},
   "outputs": [
    {
     "name": "stdout",
     "output_type": "stream",
     "text": [
      "(179999, 13)\n"
     ]
    }
   ],
   "source": [
    "print(data.shape)"
   ]
  },
  {
   "cell_type": "code",
   "execution_count": 4,
   "metadata": {},
   "outputs": [
    {
     "name": "stdout",
     "output_type": "stream",
     "text": [
      "[[ 19.6884738    0.34520428 -18.96777002 ...  17.19743708   7.23626649\n",
      "  -30.71404477]\n",
      " [ 19.6776887    6.5152444  -18.13150971 ...  36.56473388  15.91031454\n",
      "  -20.585949  ]\n",
      " [ 19.38906465   4.09170589 -16.16741236 ...  35.76400799   9.97291938\n",
      "  -27.12420088]\n",
      " ...\n",
      " [  4.48181023 -28.49382144  -1.39828052 ...   6.00959207   4.32710969\n",
      "  -11.78033898]\n",
      " [  4.59760795 -31.19398402  -1.50272759 ...   0.10406072  -5.33376854\n",
      "  -17.42454733]\n",
      " [  4.3957976  -30.3591145    0.93997567 ...   1.45635257  -3.36968642\n",
      "  -10.39677659]]\n"
     ]
    },
    {
     "data": {
      "text/plain": [
       "(179999, 13)"
      ]
     },
     "execution_count": 4,
     "metadata": {},
     "output_type": "execute_result"
    }
   ],
   "source": [
    "print (data)\n",
    "data=data.reshape(data.shape[0],13)\n",
    "data.shape"
   ]
  },
  {
   "cell_type": "code",
   "execution_count": 5,
   "metadata": {},
   "outputs": [
    {
     "name": "stdout",
     "output_type": "stream",
     "text": [
      "[ 19.6884738    0.34520428 -18.96777002 -18.91139043 -28.31415639\n",
      "  -5.61446044 -28.95105212 -34.86181481  11.5893669   -4.58225194\n",
      "  17.19743708   7.23626649 -30.71404477]\n"
     ]
    }
   ],
   "source": [
    "print(data[0])"
   ]
  },
  {
   "cell_type": "code",
   "execution_count": 7,
   "metadata": {},
   "outputs": [],
   "source": [
    "import soundfile as sf\n",
    "from sklearn import cluster\n",
    "import numpy as np\n",
    "import pandas as pd\n"
   ]
  },
  {
   "cell_type": "code",
   "execution_count": 17,
   "metadata": {},
   "outputs": [],
   "source": [
    "#reshape the data "
   ]
  },
  {
   "cell_type": "code",
   "execution_count": 9,
   "metadata": {},
   "outputs": [],
   "source": [
    "ks=range(1,2)"
   ]
  },
  {
   "cell_type": "code",
   "execution_count": 10,
   "metadata": {},
   "outputs": [],
   "source": [
    "KMeans = [cluster.KMeans(n_clusters = i, init=\"k-means++\").fit(data[179979:179999]) for i in ks]"
   ]
  },
  {
   "cell_type": "code",
   "execution_count": 11,
   "metadata": {},
   "outputs": [
    {
     "data": {
      "text/plain": [
       "array([0, 0, 0, 0, 0, 0, 0, 0, 0, 0], dtype=int32)"
      ]
     },
     "execution_count": 11,
     "metadata": {},
     "output_type": "execute_result"
    }
   ],
   "source": [
    "KMeans[0].predict(data[179989:179999])"
   ]
  },
  {
   "cell_type": "code",
   "execution_count": 12,
   "metadata": {},
   "outputs": [],
   "source": [
    "#code for calculating Bayesian Information Criteria for a cluster of data"
   ]
  },
  {
   "cell_type": "code",
   "execution_count": 13,
   "metadata": {},
   "outputs": [],
   "source": [
    "import numpy as np\n",
    "from scipy.spatial import distance\n",
    "def compute_bic(kmeans,X):\n",
    "    \"\"\"\n",
    "    Computes the BIC metric for a given clusters\n",
    "\n",
    "    Parameters:\n",
    "    -----------------------------------------\n",
    "    kmeans:  List of clustering object from scikit learn\n",
    "\n",
    "    X     :  multidimension np array of data points\n",
    "\n",
    "    Returns:\n",
    "    -----------------------------------------\n",
    "    BIC value\n",
    "    \"\"\"\n",
    "    # assign centers and labels\n",
    "    centers = [kmeans.cluster_centers_]\n",
    "    labels  = kmeans.predict(X)\n",
    "    #number of clusters\n",
    "    \n",
    "    m = kmeans.n_clusters\n",
    "    #print(m)\n",
    "    #print m\n",
    "    #print (m)\n",
    "    # size of the clusters\n",
    "    n = np.bincount(labels)\n",
    "    #size of data set\n",
    "    N, d = X.shape\n",
    "    #print m,N\n",
    "    #print(X.shape)\n",
    "    #print(d)\n",
    "    #tmp=(1.0 / (N - m) / d) *sum([sum(distance.cdist(X[np.where(labels == i)], [centers[0][i]], 'euclidean')**2) for i in range(m)])\n",
    "    #print(tmp)\n",
    "    #compute variance for all clusters beforehand\n",
    "    #print(N-m)\n",
    "    #print(labels)\n",
    "    cl_var = (1.0 / (N - m) / d) * sum([sum(distance.cdist(X[np.where(labels == i)], [centers[0][i]], 'euclidean')**2) for i in range(m)])\n",
    "\n",
    "    const_term = 0.5 * m * np.log(N) * (d+1)\n",
    "\n",
    "    BIC = np.sum([n[i] * np.log(n[i]) -\n",
    "               n[i] * np.log(N) -\n",
    "             ((n[i] * d) / 2) * np.log(2*np.pi*cl_var) -\n",
    "              ((n[i] - 1) * d/ 2) for i in range(m)]) - const_term\n",
    "\n",
    "    return(BIC)"
   ]
  },
  {
   "cell_type": "code",
   "execution_count": 14,
   "metadata": {},
   "outputs": [
    {
     "name": "stdout",
     "output_type": "stream",
     "text": [
      "KMeans(algorithm='auto', copy_x=True, init='k-means++', max_iter=300,\n",
      "    n_clusters=1, n_init=10, n_jobs=1, precompute_distances='auto',\n",
      "    random_state=None, tol=0.0001, verbose=0)\n"
     ]
    }
   ],
   "source": [
    "print(KMeans[0])"
   ]
  },
  {
   "cell_type": "code",
   "execution_count": 15,
   "metadata": {},
   "outputs": [],
   "source": [
    "#compute BIC (just for testing purpose)"
   ]
  },
  {
   "cell_type": "code",
   "execution_count": 22,
   "metadata": {},
   "outputs": [
    {
     "name": "stdout",
     "output_type": "stream",
     "text": [
      "[-347.37159023408793]\n"
     ]
    }
   ],
   "source": [
    "BIC = [compute_bic(kmeansi,data[179989:179999]) for kmeansi in KMeans]\n",
    "#BIC = compute_bic(kmeansi,dataset) \n",
    "print(BIC)"
   ]
  },
  {
   "cell_type": "code",
   "execution_count": null,
   "metadata": {},
   "outputs": [],
   "source": []
  },
  {
   "cell_type": "code",
   "execution_count": 23,
   "metadata": {},
   "outputs": [],
   "source": [
    " #code for detecting Speaker change  "
   ]
  },
  {
   "cell_type": "code",
   "execution_count": 26,
   "metadata": {},
   "outputs": [
    {
     "name": "stdout",
     "output_type": "stream",
     "text": [
      "speaker change detected at  4551\n",
      "speaker change detected at  8262\n",
      "speaker change detected at  17695\n",
      "speaker change detected at  17795\n",
      "speaker change detected at  18047\n",
      "speaker change detected at  18430\n",
      "speaker change detected at  18562\n",
      "speaker change detected at  18894\n",
      "speaker change detected at  25389\n",
      "speaker change detected at  26616\n",
      "speaker change detected at  26756\n",
      "speaker change detected at  29237\n",
      "speaker change detected at  29715\n",
      "speaker change detected at  30227\n",
      "speaker change detected at  31252\n",
      "speaker change detected at  31610\n",
      "speaker change detected at  35021\n",
      "speaker change detected at  38494\n",
      "speaker change detected at  38669\n",
      "speaker change detected at  38769\n",
      "speaker change detected at  41509\n",
      "speaker change detected at  47494\n",
      "speaker change detected at  49193\n",
      "speaker change detected at  51255\n",
      "speaker change detected at  58220\n",
      "speaker change detected at  61214\n",
      "speaker change detected at  62549\n",
      "speaker change detected at  64838\n",
      "speaker change detected at  68296\n",
      "speaker change detected at  69059\n",
      "speaker change detected at  73312\n",
      "speaker change detected at  76299\n",
      "speaker change detected at  78516\n",
      "speaker change detected at  81746\n",
      "speaker change detected at  81966\n",
      "speaker change detected at  87675\n",
      "speaker change detected at  88061\n",
      "speaker change detected at  88828\n",
      "speaker change detected at  89112\n",
      "speaker change detected at  89229\n",
      "speaker change detected at  98626\n",
      "speaker change detected at  98778\n",
      "speaker change detected at  101587\n",
      "speaker change detected at  103734\n",
      "speaker change detected at  106124\n",
      "speaker change detected at  108555\n",
      "speaker change detected at  109709\n",
      "speaker change detected at  120399\n",
      "speaker change detected at  125092\n",
      "speaker change detected at  128324\n",
      "speaker change detected at  129209\n",
      "speaker change detected at  142467\n",
      "speaker change detected at  145456\n",
      "speaker change detected at  145741\n",
      "speaker change detected at  149682\n",
      "speaker change detected at  151839\n",
      "speaker change detected at  152112\n",
      "speaker change detected at  152212\n",
      "speaker change detected at  152391\n",
      "speaker change detected at  155257\n",
      "speaker change detected at  156020\n",
      "speaker change detected at  156330\n",
      "speaker change detected at  160066\n",
      "speaker change detected at  160322\n",
      "speaker change detected at  160422\n",
      "speaker change detected at  160528\n",
      "speaker change detected at  160830\n",
      "speaker change detected at  162305\n",
      "speaker change detected at  162589\n",
      "speaker change detected at  164006\n",
      "speaker change detected at  164109\n",
      "speaker change detected at  165699\n",
      "speaker change detected at  167776\n",
      "speaker change detected at  172262\n",
      "speaker change detected at  176406\n"
     ]
    }
   ],
   "source": [
    "#!/usr/bin/python\n",
    "a=0\n",
    "t=a+50\n",
    "b=a+100\n",
    "threshold= 400 #flexible as our knowledge\n",
    "count=0\n",
    "for i in range(50,len(data)-100): \n",
    "    #print a,t,b\n",
    "    X1= data[a:t]\n",
    "    X2= data[t:b]\n",
    "     \n",
    "            \n",
    "    #compute_bic(X1) compute BIC(X2)\n",
    "    #print(X1.shape)\n",
    "    #print(X2.shape)\n",
    "    if(X2.shape[0]<50):\n",
    "        break\n",
    "    bic1= BIC = [compute_bic(kmeansi,X1) for kmeansi in KMeans]\n",
    "    bic2= BIC = [compute_bic(kmeansi,X2) for kmeansi in KMeans]\n",
    "    diff= abs(bic1[0]-bic2[0])\n",
    "    #print bic1[0]\n",
    "    #print bic2[0]\n",
    "    \n",
    "    if diff>threshold:\n",
    "                print \"speaker change detected at \",t\n",
    "                count=count+1\n",
    "                a=b\n",
    "                t=a+50\n",
    "                b=a+100\n",
    "                #print a,t,b\n",
    "    else:\n",
    "                t=t+1\n",
    "                a=t-50\n",
    "                b=t+50\n",
    "        "
   ]
  },
  {
   "cell_type": "code",
   "execution_count": 28,
   "metadata": {},
   "outputs": [
    {
     "name": "stdout",
     "output_type": "stream",
     "text": [
      "75 times speakers got switched during the entire audio\n"
     ]
    }
   ],
   "source": [
    "print count,\"times speakers got switched during the entire audio\""
   ]
  },
  {
   "cell_type": "code",
   "execution_count": null,
   "metadata": {},
   "outputs": [],
   "source": [
    "\n",
    "    "
   ]
  },
  {
   "cell_type": "code",
   "execution_count": null,
   "metadata": {},
   "outputs": [],
   "source": []
  }
 ],
 "metadata": {
  "kernelspec": {
   "display_name": "Python 2",
   "language": "python",
   "name": "python2"
  },
  "language_info": {
   "codemirror_mode": {
    "name": "ipython",
    "version": 2
   },
   "file_extension": ".py",
   "mimetype": "text/x-python",
   "name": "python",
   "nbconvert_exporter": "python",
   "pygments_lexer": "ipython2",
   "version": "2.7.14"
  }
 },
 "nbformat": 4,
 "nbformat_minor": 2
}
